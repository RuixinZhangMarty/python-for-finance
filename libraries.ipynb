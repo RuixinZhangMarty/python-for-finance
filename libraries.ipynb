{
 "cells": [
  {
   "cell_type": "markdown",
   "metadata": {},
   "source": [
    "# Libraries"
   ]
  },
  {
   "cell_type": "markdown",
   "metadata": {},
   "source": [
    "## 1- Concept of Module"
   ]
  },
  {
   "cell_type": "markdown",
   "metadata": {},
   "source": [
    "### [Modules](https://docs.python.org/3/tutorial/modules.html)"
   ]
  },
  {
   "cell_type": "markdown",
   "metadata": {},
   "source": [
    "A module is a file containing Python definitions and statements. The file name is the module name with the suffix .py appended.\n",
    "\n",
    "Let me show you how to do this quickly!\n",
    "[paco_function.py](paco_function.py)"
   ]
  },
  {
   "cell_type": "code",
   "execution_count": 9,
   "metadata": {},
   "outputs": [],
   "source": [
    "from paco_function import count_to_10"
   ]
  },
  {
   "cell_type": "code",
   "execution_count": 10,
   "metadata": {},
   "outputs": [
    {
     "name": "stdout",
     "output_type": "stream",
     "text": [
      "0\n",
      "1\n",
      "2\n",
      "3\n",
      "4\n",
      "5\n",
      "6\n",
      "7\n",
      "8\n",
      "9\n"
     ]
    }
   ],
   "source": [
    "# It works without the need of writing on this script\n",
    "count_to_10()"
   ]
  },
  {
   "cell_type": "markdown",
   "metadata": {},
   "source": [
    "### Packages"
   ]
  },
  {
   "cell_type": "markdown",
   "metadata": {},
   "source": [
    "Packages are a way of structuring Python’s module namespace by using “dotted module names”. For example, the module name A.B designates a submodule named B in a package named A. Just like the use of modules saves the authors of different modules from having to worry about each other’s global variable names, the use of dotted module names saves the authors of multi-module packages like NumPy or Pillow from having to worry about each other’s module names."
   ]
  },
  {
   "cell_type": "markdown",
   "metadata": {},
   "source": [
    "## 2- Install Modules"
   ]
  },
  {
   "cell_type": "markdown",
   "metadata": {},
   "source": [
    "### [Install Modules](https://docs.python.org/3/installing/index.html)\n",
    "\n",
    "As a popular open source development project, Python has an active supporting community of contributors and users that also make their software available for other Python developers to use under open source license terms.\n",
    "\n",
    "This allows Python users to share and collaborate effectively, benefiting from the solutions others have already created to common (and sometimes even rare!) problems, as well as potentially contributing their own solutions to the common pool."
   ]
  },
  {
   "cell_type": "markdown",
   "metadata": {},
   "source": [
    "### [Install Modules in Conda](https://docs.python.org/3/installing/index.html)\n",
    "\n",
    "- Open Anaconda Prompt\n",
    "\n",
    "![Anaconda Prompt](media/prompt.jpg)\n",
    "\n",
    "- If you are in the Python 3.6 environment that we previously created\n",
    "\n",
    "conda install scipy\n",
    "\n",
    "- If you are in a different environment \n",
    "\n",
    "conda install --name myenv scipy\n",
    "\n",
    "being \"myenv\" the name of the environment where you want to install the package"
   ]
  },
  {
   "cell_type": "markdown",
   "metadata": {},
   "source": [
    "## 3- Common Modules"
   ]
  },
  {
   "cell_type": "markdown",
   "metadata": {},
   "source": [
    "In the following classes we are going to be using these modules:\n",
    "\n",
    "- pandas\n",
    "- seaborn\n",
    "- numpy\n",
    "- sqlite3\n",
    "- matplotlib\n",
    "\n",
    "**Homework:** \n",
    "- Read few lines of what are these modules about\n",
    "- If you are interested in a module we can make some class exercises with it"
   ]
  },
  {
   "cell_type": "markdown",
   "metadata": {},
   "source": [
    "## 4- Marvelous!!!!!\n",
    "\n",
    "This is what makes Python and R what they are! You don't need to write your own code for everything, there are thousands of contributors around the world sharing modules! If you are interested in going deeper in how they work, contributing or find more modules **remember what I told you about Git**.\n",
    "\n",
    "You can become a specialist in fields like Math, Statistics, Machine Learning, Data Processing or just use modules and treat them as black boxes. It all depends on what your professional plans are."
   ]
  }
 ],
 "metadata": {
  "kernelspec": {
   "display_name": "Python 3",
   "language": "python",
   "name": "python3"
  },
  "language_info": {
   "codemirror_mode": {
    "name": "ipython",
    "version": 3
   },
   "file_extension": ".py",
   "mimetype": "text/x-python",
   "name": "python",
   "nbconvert_exporter": "python",
   "pygments_lexer": "ipython3",
   "version": "3.6.8"
  }
 },
 "nbformat": 4,
 "nbformat_minor": 2
}
